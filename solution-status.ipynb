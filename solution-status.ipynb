{
  "nbformat": 4,
  "nbformat_minor": 0,
  "metadata": {
    "colab": {
      "name": "Untitled0.ipynb",
      "provenance": [],
      "collapsed_sections": []
    },
    "kernelspec": {
      "name": "python3",
      "display_name": "Python 3"
    }
  },
  "cells": [
    {
      "cell_type": "code",
      "execution_count": null,
      "metadata": {},
      "outputs": [
        {
          "ename": "Error",
          "evalue": "Jupyter cannot be started. Error attempting to locate jupyter: 'Kernelspec' module not installed in the selected interpreter ({0}).\n Please re-install or update 'jupyter'.",
          "output_type": "error",
          "traceback": [
            "Error: Jupyter cannot be started. Error attempting to locate jupyter: 'Kernelspec' module not installed in the selected interpreter ({0}).",
            "Please re-install or update 'jupyter'.",
            "at A.startServer (/Users/ifpb/.vscode/extensions/ms-python.python-2020.2.63072/out/client/extension.js:1:781100)",
            "at async A.ensureServerAndNotebookImpl (/Users/ifpb/.vscode/extensions/ms-python.python-2020.2.63072/out/client/extension.js:1:780555)",
            "at async A.ensureServerAndNotebook (/Users/ifpb/.vscode/extensions/ms-python.python-2020.2.63072/out/client/extension.js:1:780356)",
            "at async A.submitCode (/Users/ifpb/.vscode/extensions/ms-python.python-2020.2.63072/out/client/extension.js:1:777738)",
            "at async A.reexecuteCell (/Users/ifpb/.vscode/extensions/ms-python.python-2020.2.63072/out/client/extension.js:75:879007)"
          ]
        }
      ],
      "source": [
        "import os\n",
        "import json\n",
        "import pandas as pd\n",
        "\n",
        "students = (\n",
        "  'mateus.pedro',\n",
        "  'vinicius.accioly',\n",
        "  'richard.sidney',\n",
        "  'joab.ferreira',\n",
        "  'ernandez.santos',\n",
        "  'maria.rebeca',\n",
        "  'hugo.oliveira',\n",
        "  'pablo.camilo',\n",
        "  'marcelo.junior',\n",
        "  'fernando.viana'\n",
        ")\n",
        "categories = ('back-end', 'front-end')\n",
        "status = {}\n",
        "\n",
        "for student in students:\n",
        "  status[student] = {}\n",
        "  for category in categories:\n",
        "    subcategories = os.listdir(category)\n",
        "    for subcategory in subcategories:\n",
        "      path = f'{category}/{subcategory}'\n",
        "      problems = os.listdir(path)\n",
        "      for problem in problems:\n",
        "        path = f'{category}/{subcategory}/{problem}/{student}'\n",
        "        status[student][f'{category}/{subcategory}/{problem}'] = os.path.isdir(path) or os.path.isfile(f'{path}.php')\n",
        "\n",
        "# print(json.dumps(status, indent=4, sort_keys=True))\n",
        "df = pd.DataFrame(status)\n",
        "# print(df)"
      ]
    },
    {
      "cell_type": "code",
      "execution_count": 2,
      "metadata": {},
      "outputs": [
        {
          "data": {
            "text/plain": "leandro.batista      24\ndjalde.gomes         21\nroberto.souza        20\nnoronha.rafael       12\nrobson.nascimento    11\npedro.romano          7\nmacaiba.laura         1\nhermano.araujo        0\njoab.ferreira         0\ndantas.anna           0\ndtype: int64"
          },
          "execution_count": 2,
          "metadata": {},
          "output_type": "execute_result"
        }
      ],
      "source": [
        "df[df==True].count(axis=0).sort_values(ascending=False)"
      ]
    },
    {
      "cell_type": "code",
      "execution_count": 3,
      "metadata": {},
      "outputs": [
        {
          "data": {
            "text/plain": "back-end/php-web/simple-form              1\nfront-end/structure/first-web-page        2\nback-end/mysql/docker                     2\nfront-end/structure/man-ping              2\nfront-end/style/curriculum-text           3\nfront-end/logic/bs-corretora              3\nback-end/php-app/ps-api                   3\nback-end/php-app/top-api                  3\nback-end/php-app/iproute2-api             3\nback-end/php-app/ping-api                 3\nback-end/php-app/ps-app                   3\nback-end/php-app/top-app                  3\nback-end/php-app/ping-app                 3\nfront-end/logic/flag-game                 4\nfront-end/style/text-simple               4\nback-end/php-app/iproute2-app             4\nback-end/php-core/basic-numbers-series    5\nback-end/php-core/area-of-circle          5\nback-end/php-core/calc                    5\nback-end/php-web/ping                     5\nback-end/php-core/basic-bmi               6\nback-end/php-web/get-hello-fetch          6\nback-end/php-web/get-hello                6\nback-end/php-web/post-hello               6\nback-end/php-web/post-hello-fetch         6\ndtype: int64"
          },
          "execution_count": 3,
          "metadata": {},
          "output_type": "execute_result"
        }
      ],
      "source": [
        "df[df==True].count(axis=1).sort_values(ascending=True)"
      ]
    },
    {
      "cell_type": "code",
      "execution_count": 4,
      "metadata": {},
      "outputs": [
        {
          "name": "stdout",
          "output_type": "stream",
          "text": "96\n"
        }
      ],
      "source": [
        "print(df[df==True].count().sum())"
      ]
    }
  ]
}
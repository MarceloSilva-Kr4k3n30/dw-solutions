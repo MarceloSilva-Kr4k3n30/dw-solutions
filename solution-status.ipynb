{
  "nbformat": 4,
  "nbformat_minor": 0,
  "metadata": {
    "colab": {
      "name": "Untitled0.ipynb",
      "provenance": [],
      "collapsed_sections": []
    },
    "kernelspec": {
      "name": "python3",
      "display_name": "Python 3"
    }
  },
  "cells": [
    {
      "cell_type": "code",
      "execution_count": 8,
      "metadata": {},
      "outputs": [],
      "source": [
        "import os\n",
        "import json\n",
        "import pandas as pd\n",
        "\n",
        "students = (\n",
        "  'mateus.pedro',\n",
        "  'vinicius.accioly',\n",
        "  'richard.sidney',\n",
        "  'joab.ferreira',\n",
        "  'ernandez.santos',\n",
        "  'maria.rebeca',\n",
        "  'hugo.oliveira',\n",
        "  'pablo.camilo',\n",
        "  'marcelo.junior',\n",
        "  'fernando.viana'\n",
        ")\n",
        "categories = ('back-end', 'front-end')\n",
        "status = {}\n",
        "\n",
        "for student in students:\n",
        "  status[student] = {}\n",
        "  for category in categories:\n",
        "    subcategories = os.listdir(category)\n",
        "    for subcategory in subcategories:\n",
        "      path = f'{category}/{subcategory}'\n",
        "      problems = os.listdir(path)\n",
        "      for problem in problems:\n",
        "        path = f'{category}/{subcategory}/{problem}/{student}'\n",
        "        status[student][f'{category}/{subcategory}/{problem}'] = os.path.isdir(path) or os.path.isfile(f'{path}.php')\n",
        "\n",
        "# print(json.dumps(status, indent=4, sort_keys=True))\n",
        "df = pd.DataFrame(status)\n",
        "# print(df)"
      ]
    },
    {
      "cell_type": "code",
      "execution_count": 9,
      "metadata": {},
      "outputs": [
        {
          "data": {
            "text/plain": "fernando.viana      0\nmarcelo.junior      0\npablo.camilo        0\nhugo.oliveira       0\nmaria.rebeca        0\nernandez.santos     0\njoab.ferreira       0\nrichard.sidney      0\nvinicius.accioly    0\nmateus.pedro        0\ndtype: int64"
          },
          "execution_count": 9,
          "metadata": {},
          "output_type": "execute_result"
        }
      ],
      "source": [
        "df[df==True].count(axis=0).sort_values(ascending=False)"
      ]
    },
    {
      "cell_type": "code",
      "execution_count": 10,
      "metadata": {},
      "outputs": [
        {
          "data": {
            "text/plain": "front-end/structure/man-ping          0\nfront-end/structure/first-web-page    0\ndtype: int64"
          },
          "execution_count": 10,
          "metadata": {},
          "output_type": "execute_result"
        }
      ],
      "source": [
        "df[df==True].count(axis=1).sort_values(ascending=True)"
      ]
    },
    {
      "cell_type": "code",
      "execution_count": 11,
      "metadata": {},
      "outputs": [
        {
          "name": "stdout",
          "output_type": "stream",
          "text": "0\n"
        }
      ],
      "source": [
        "print(df[df==True].count().sum())"
      ]
    }
  ]
}